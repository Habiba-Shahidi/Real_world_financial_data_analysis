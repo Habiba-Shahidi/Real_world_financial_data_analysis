{
  "cells": [
    {
      "cell_type": "markdown",
      "metadata": {
        "id": "q2jNSuQfNSZP"
      },
      "source": [
        "Project 8: Real World Financial Data Analysis\n"
      ]
    },
    {
      "cell_type": "code",
      "execution_count": null,
      "metadata": {
        "colab": {
          "base_uri": "https://localhost:8080/",
          "height": 73,
          "resources": {
            "http://localhost:8080/nbextensions/google.colab/files.js": {
              "data": "Ly8gQ29weXJpZ2h0IDIwMTcgR29vZ2xlIExMQwovLwovLyBMaWNlbnNlZCB1bmRlciB0aGUgQXBhY2hlIExpY2Vuc2UsIFZlcnNpb24gMi4wICh0aGUgIkxpY2Vuc2UiKTsKLy8geW91IG1heSBub3QgdXNlIHRoaXMgZmlsZSBleGNlcHQgaW4gY29tcGxpYW5jZSB3aXRoIHRoZSBMaWNlbnNlLgovLyBZb3UgbWF5IG9idGFpbiBhIGNvcHkgb2YgdGhlIExpY2Vuc2UgYXQKLy8KLy8gICAgICBodHRwOi8vd3d3LmFwYWNoZS5vcmcvbGljZW5zZXMvTElDRU5TRS0yLjAKLy8KLy8gVW5sZXNzIHJlcXVpcmVkIGJ5IGFwcGxpY2FibGUgbGF3IG9yIGFncmVlZCB0byBpbiB3cml0aW5nLCBzb2Z0d2FyZQovLyBkaXN0cmlidXRlZCB1bmRlciB0aGUgTGljZW5zZSBpcyBkaXN0cmlidXRlZCBvbiBhbiAiQVMgSVMiIEJBU0lTLAovLyBXSVRIT1VUIFdBUlJBTlRJRVMgT1IgQ09ORElUSU9OUyBPRiBBTlkgS0lORCwgZWl0aGVyIGV4cHJlc3Mgb3IgaW1wbGllZC4KLy8gU2VlIHRoZSBMaWNlbnNlIGZvciB0aGUgc3BlY2lmaWMgbGFuZ3VhZ2UgZ292ZXJuaW5nIHBlcm1pc3Npb25zIGFuZAovLyBsaW1pdGF0aW9ucyB1bmRlciB0aGUgTGljZW5zZS4KCi8qKgogKiBAZmlsZW92ZXJ2aWV3IEhlbHBlcnMgZm9yIGdvb2dsZS5jb2xhYiBQeXRob24gbW9kdWxlLgogKi8KKGZ1bmN0aW9uKHNjb3BlKSB7CmZ1bmN0aW9uIHNwYW4odGV4dCwgc3R5bGVBdHRyaWJ1dGVzID0ge30pIHsKICBjb25zdCBlbGVtZW50ID0gZG9jdW1lbnQuY3JlYXRlRWxlbWVudCgnc3BhbicpOwogIGVsZW1lbnQudGV4dENvbnRlbnQgPSB0ZXh0OwogIGZvciAoY29uc3Qga2V5IG9mIE9iamVjdC5rZXlzKHN0eWxlQXR0cmlidXRlcykpIHsKICAgIGVsZW1lbnQuc3R5bGVba2V5XSA9IHN0eWxlQXR0cmlidXRlc1trZXldOwogIH0KICByZXR1cm4gZWxlbWVudDsKfQoKLy8gTWF4IG51bWJlciBvZiBieXRlcyB3aGljaCB3aWxsIGJlIHVwbG9hZGVkIGF0IGEgdGltZS4KY29uc3QgTUFYX1BBWUxPQURfU0laRSA9IDEwMCAqIDEwMjQ7CgpmdW5jdGlvbiBfdXBsb2FkRmlsZXMoaW5wdXRJZCwgb3V0cHV0SWQpIHsKICBjb25zdCBzdGVwcyA9IHVwbG9hZEZpbGVzU3RlcChpbnB1dElkLCBvdXRwdXRJZCk7CiAgY29uc3Qgb3V0cHV0RWxlbWVudCA9IGRvY3VtZW50LmdldEVsZW1lbnRCeUlkKG91dHB1dElkKTsKICAvLyBDYWNoZSBzdGVwcyBvbiB0aGUgb3V0cHV0RWxlbWVudCB0byBtYWtlIGl0IGF2YWlsYWJsZSBmb3IgdGhlIG5leHQgY2FsbAogIC8vIHRvIHVwbG9hZEZpbGVzQ29udGludWUgZnJvbSBQeXRob24uCiAgb3V0cHV0RWxlbWVudC5zdGVwcyA9IHN0ZXBzOwoKICByZXR1cm4gX3VwbG9hZEZpbGVzQ29udGludWUob3V0cHV0SWQpOwp9CgovLyBUaGlzIGlzIHJvdWdobHkgYW4gYXN5bmMgZ2VuZXJhdG9yIChub3Qgc3VwcG9ydGVkIGluIHRoZSBicm93c2VyIHlldCksCi8vIHdoZXJlIHRoZXJlIGFyZSBtdWx0aXBsZSBhc3luY2hyb25vdXMgc3RlcHMgYW5kIHRoZSBQeXRob24gc2lkZSBpcyBnb2luZwovLyB0byBwb2xsIGZvciBjb21wbGV0aW9uIG9mIGVhY2ggc3RlcC4KLy8gVGhpcyB1c2VzIGEgUHJvbWlzZSB0byBibG9jayB0aGUgcHl0aG9uIHNpZGUgb24gY29tcGxldGlvbiBvZiBlYWNoIHN0ZXAsCi8vIHRoZW4gcGFzc2VzIHRoZSByZXN1bHQgb2YgdGhlIHByZXZpb3VzIHN0ZXAgYXMgdGhlIGlucHV0IHRvIHRoZSBuZXh0IHN0ZXAuCmZ1bmN0aW9uIF91cGxvYWRGaWxlc0NvbnRpbnVlKG91dHB1dElkKSB7CiAgY29uc3Qgb3V0cHV0RWxlbWVudCA9IGRvY3VtZW50LmdldEVsZW1lbnRCeUlkKG91dHB1dElkKTsKICBjb25zdCBzdGVwcyA9IG91dHB1dEVsZW1lbnQuc3RlcHM7CgogIGNvbnN0IG5leHQgPSBzdGVwcy5uZXh0KG91dHB1dEVsZW1lbnQubGFzdFByb21pc2VWYWx1ZSk7CiAgcmV0dXJuIFByb21pc2UucmVzb2x2ZShuZXh0LnZhbHVlLnByb21pc2UpLnRoZW4oKHZhbHVlKSA9PiB7CiAgICAvLyBDYWNoZSB0aGUgbGFzdCBwcm9taXNlIHZhbHVlIHRvIG1ha2UgaXQgYXZhaWxhYmxlIHRvIHRoZSBuZXh0CiAgICAvLyBzdGVwIG9mIHRoZSBnZW5lcmF0b3IuCiAgICBvdXRwdXRFbGVtZW50Lmxhc3RQcm9taXNlVmFsdWUgPSB2YWx1ZTsKICAgIHJldHVybiBuZXh0LnZhbHVlLnJlc3BvbnNlOwogIH0pOwp9CgovKioKICogR2VuZXJhdG9yIGZ1bmN0aW9uIHdoaWNoIGlzIGNhbGxlZCBiZXR3ZWVuIGVhY2ggYXN5bmMgc3RlcCBvZiB0aGUgdXBsb2FkCiAqIHByb2Nlc3MuCiAqIEBwYXJhbSB7c3RyaW5nfSBpbnB1dElkIEVsZW1lbnQgSUQgb2YgdGhlIGlucHV0IGZpbGUgcGlja2VyIGVsZW1lbnQuCiAqIEBwYXJhbSB7c3RyaW5nfSBvdXRwdXRJZCBFbGVtZW50IElEIG9mIHRoZSBvdXRwdXQgZGlzcGxheS4KICogQHJldHVybiB7IUl0ZXJhYmxlPCFPYmplY3Q+fSBJdGVyYWJsZSBvZiBuZXh0IHN0ZXBzLgogKi8KZnVuY3Rpb24qIHVwbG9hZEZpbGVzU3RlcChpbnB1dElkLCBvdXRwdXRJZCkgewogIGNvbnN0IGlucHV0RWxlbWVudCA9IGRvY3VtZW50LmdldEVsZW1lbnRCeUlkKGlucHV0SWQpOwogIGlucHV0RWxlbWVudC5kaXNhYmxlZCA9IGZhbHNlOwoKICBjb25zdCBvdXRwdXRFbGVtZW50ID0gZG9jdW1lbnQuZ2V0RWxlbWVudEJ5SWQob3V0cHV0SWQpOwogIG91dHB1dEVsZW1lbnQuaW5uZXJIVE1MID0gJyc7CgogIGNvbnN0IHBpY2tlZFByb21pc2UgPSBuZXcgUHJvbWlzZSgocmVzb2x2ZSkgPT4gewogICAgaW5wdXRFbGVtZW50LmFkZEV2ZW50TGlzdGVuZXIoJ2NoYW5nZScsIChlKSA9PiB7CiAgICAgIHJlc29sdmUoZS50YXJnZXQuZmlsZXMpOwogICAgfSk7CiAgfSk7CgogIGNvbnN0IGNhbmNlbCA9IGRvY3VtZW50LmNyZWF0ZUVsZW1lbnQoJ2J1dHRvbicpOwogIGlucHV0RWxlbWVudC5wYXJlbnRFbGVtZW50LmFwcGVuZENoaWxkKGNhbmNlbCk7CiAgY2FuY2VsLnRleHRDb250ZW50ID0gJ0NhbmNlbCB1cGxvYWQnOwogIGNvbnN0IGNhbmNlbFByb21pc2UgPSBuZXcgUHJvbWlzZSgocmVzb2x2ZSkgPT4gewogICAgY2FuY2VsLm9uY2xpY2sgPSAoKSA9PiB7CiAgICAgIHJlc29sdmUobnVsbCk7CiAgICB9OwogIH0pOwoKICAvLyBXYWl0IGZvciB0aGUgdXNlciB0byBwaWNrIHRoZSBmaWxlcy4KICBjb25zdCBmaWxlcyA9IHlpZWxkIHsKICAgIHByb21pc2U6IFByb21pc2UucmFjZShbcGlja2VkUHJvbWlzZSwgY2FuY2VsUHJvbWlzZV0pLAogICAgcmVzcG9uc2U6IHsKICAgICAgYWN0aW9uOiAnc3RhcnRpbmcnLAogICAgfQogIH07CgogIGNhbmNlbC5yZW1vdmUoKTsKCiAgLy8gRGlzYWJsZSB0aGUgaW5wdXQgZWxlbWVudCBzaW5jZSBmdXJ0aGVyIHBpY2tzIGFyZSBub3QgYWxsb3dlZC4KICBpbnB1dEVsZW1lbnQuZGlzYWJsZWQgPSB0cnVlOwoKICBpZiAoIWZpbGVzKSB7CiAgICByZXR1cm4gewogICAgICByZXNwb25zZTogewogICAgICAgIGFjdGlvbjogJ2NvbXBsZXRlJywKICAgICAgfQogICAgfTsKICB9CgogIGZvciAoY29uc3QgZmlsZSBvZiBmaWxlcykgewogICAgY29uc3QgbGkgPSBkb2N1bWVudC5jcmVhdGVFbGVtZW50KCdsaScpOwogICAgbGkuYXBwZW5kKHNwYW4oZmlsZS5uYW1lLCB7Zm9udFdlaWdodDogJ2JvbGQnfSkpOwogICAgbGkuYXBwZW5kKHNwYW4oCiAgICAgICAgYCgke2ZpbGUudHlwZSB8fCAnbi9hJ30pIC0gJHtmaWxlLnNpemV9IGJ5dGVzLCBgICsKICAgICAgICBgbGFzdCBtb2RpZmllZDogJHsKICAgICAgICAgICAgZmlsZS5sYXN0TW9kaWZpZWREYXRlID8gZmlsZS5sYXN0TW9kaWZpZWREYXRlLnRvTG9jYWxlRGF0ZVN0cmluZygpIDoKICAgICAgICAgICAgICAgICAgICAgICAgICAgICAgICAgICAgJ24vYSd9IC0gYCkpOwogICAgY29uc3QgcGVyY2VudCA9IHNwYW4oJzAlIGRvbmUnKTsKICAgIGxpLmFwcGVuZENoaWxkKHBlcmNlbnQpOwoKICAgIG91dHB1dEVsZW1lbnQuYXBwZW5kQ2hpbGQobGkpOwoKICAgIGNvbnN0IGZpbGVEYXRhUHJvbWlzZSA9IG5ldyBQcm9taXNlKChyZXNvbHZlKSA9PiB7CiAgICAgIGNvbnN0IHJlYWRlciA9IG5ldyBGaWxlUmVhZGVyKCk7CiAgICAgIHJlYWRlci5vbmxvYWQgPSAoZSkgPT4gewogICAgICAgIHJlc29sdmUoZS50YXJnZXQucmVzdWx0KTsKICAgICAgfTsKICAgICAgcmVhZGVyLnJlYWRBc0FycmF5QnVmZmVyKGZpbGUpOwogICAgfSk7CiAgICAvLyBXYWl0IGZvciB0aGUgZGF0YSB0byBiZSByZWFkeS4KICAgIGxldCBmaWxlRGF0YSA9IHlpZWxkIHsKICAgICAgcHJvbWlzZTogZmlsZURhdGFQcm9taXNlLAogICAgICByZXNwb25zZTogewogICAgICAgIGFjdGlvbjogJ2NvbnRpbnVlJywKICAgICAgfQogICAgfTsKCiAgICAvLyBVc2UgYSBjaHVua2VkIHNlbmRpbmcgdG8gYXZvaWQgbWVzc2FnZSBzaXplIGxpbWl0cy4gU2VlIGIvNjIxMTU2NjAuCiAgICBsZXQgcG9zaXRpb24gPSAwOwogICAgZG8gewogICAgICBjb25zdCBsZW5ndGggPSBNYXRoLm1pbihmaWxlRGF0YS5ieXRlTGVuZ3RoIC0gcG9zaXRpb24sIE1BWF9QQVlMT0FEX1NJWkUpOwogICAgICBjb25zdCBjaHVuayA9IG5ldyBVaW50OEFycmF5KGZpbGVEYXRhLCBwb3NpdGlvbiwgbGVuZ3RoKTsKICAgICAgcG9zaXRpb24gKz0gbGVuZ3RoOwoKICAgICAgY29uc3QgYmFzZTY0ID0gYnRvYShTdHJpbmcuZnJvbUNoYXJDb2RlLmFwcGx5KG51bGwsIGNodW5rKSk7CiAgICAgIHlpZWxkIHsKICAgICAgICByZXNwb25zZTogewogICAgICAgICAgYWN0aW9uOiAnYXBwZW5kJywKICAgICAgICAgIGZpbGU6IGZpbGUubmFtZSwKICAgICAgICAgIGRhdGE6IGJhc2U2NCwKICAgICAgICB9LAogICAgICB9OwoKICAgICAgbGV0IHBlcmNlbnREb25lID0gZmlsZURhdGEuYnl0ZUxlbmd0aCA9PT0gMCA/CiAgICAgICAgICAxMDAgOgogICAgICAgICAgTWF0aC5yb3VuZCgocG9zaXRpb24gLyBmaWxlRGF0YS5ieXRlTGVuZ3RoKSAqIDEwMCk7CiAgICAgIHBlcmNlbnQudGV4dENvbnRlbnQgPSBgJHtwZXJjZW50RG9uZX0lIGRvbmVgOwoKICAgIH0gd2hpbGUgKHBvc2l0aW9uIDwgZmlsZURhdGEuYnl0ZUxlbmd0aCk7CiAgfQoKICAvLyBBbGwgZG9uZS4KICB5aWVsZCB7CiAgICByZXNwb25zZTogewogICAgICBhY3Rpb246ICdjb21wbGV0ZScsCiAgICB9CiAgfTsKfQoKc2NvcGUuZ29vZ2xlID0gc2NvcGUuZ29vZ2xlIHx8IHt9OwpzY29wZS5nb29nbGUuY29sYWIgPSBzY29wZS5nb29nbGUuY29sYWIgfHwge307CnNjb3BlLmdvb2dsZS5jb2xhYi5fZmlsZXMgPSB7CiAgX3VwbG9hZEZpbGVzLAogIF91cGxvYWRGaWxlc0NvbnRpbnVlLAp9Owp9KShzZWxmKTsK",
              "headers": [
                [
                  "content-type",
                  "application/javascript"
                ]
              ],
              "ok": true,
              "status": 200,
              "status_text": ""
            }
          }
        },
        "id": "5CswSqv3eyCC",
        "outputId": "0857b65e-9f1a-4fb8-d9e0-3fa41a5b8351"
      },
      "outputs": [
        {
          "data": {
            "text/html": [
              "\n",
              "     <input type=\"file\" id=\"files-5c94d6fb-2f18-4c33-8389-88e6886dbaa6\" name=\"files[]\" multiple disabled\n",
              "        style=\"border:none\" />\n",
              "     <output id=\"result-5c94d6fb-2f18-4c33-8389-88e6886dbaa6\">\n",
              "      Upload widget is only available when the cell has been executed in the\n",
              "      current browser session. Please rerun this cell to enable.\n",
              "      </output>\n",
              "      <script src=\"/nbextensions/google.colab/files.js\"></script> "
            ],
            "text/plain": [
              "<IPython.core.display.HTML object>"
            ]
          },
          "metadata": {},
          "output_type": "display_data"
        },
        {
          "name": "stdout",
          "output_type": "stream",
          "text": [
            "Saving Ecommerce Purchases.csv to Ecommerce Purchases (1).csv\n"
          ]
        }
      ],
      "source": [
        "from google.colab import files\n",
        "uploaded = files.upload()\n",
        "import pandas as pd\n",
        "dataset = pd.read_csv(\"Ecommerce Purchases.csv\")"
      ]
    },
    {
      "cell_type": "markdown",
      "metadata": {
        "id": "_FLUlFNaPyJ2"
      },
      "source": [
        "      Display Top 10 Rows of the data"
      ]
    },
    {
      "cell_type": "code",
      "execution_count": null,
      "metadata": {
        "colab": {
          "base_uri": "https://localhost:8080/",
          "height": 895
        },
        "id": "jxC5EjKUPDJC",
        "outputId": "2708f14c-c301-4712-b633-443eb8d3deb8"
      },
      "outputs": [
        {
          "data": {
            "text/html": [
              "\n",
              "  <div id=\"df-6620c7e2-39bc-4eac-a0b2-c733a8829b70\">\n",
              "    <div class=\"colab-df-container\">\n",
              "      <div>\n",
              "<style scoped>\n",
              "    .dataframe tbody tr th:only-of-type {\n",
              "        vertical-align: middle;\n",
              "    }\n",
              "\n",
              "    .dataframe tbody tr th {\n",
              "        vertical-align: top;\n",
              "    }\n",
              "\n",
              "    .dataframe thead th {\n",
              "        text-align: right;\n",
              "    }\n",
              "</style>\n",
              "<table border=\"1\" class=\"dataframe\">\n",
              "  <thead>\n",
              "    <tr style=\"text-align: right;\">\n",
              "      <th></th>\n",
              "      <th>Address</th>\n",
              "      <th>Lot</th>\n",
              "      <th>AM or PM</th>\n",
              "      <th>Browser Info</th>\n",
              "      <th>Company</th>\n",
              "      <th>Credit Card</th>\n",
              "      <th>CC Exp Date</th>\n",
              "      <th>CC Security Code</th>\n",
              "      <th>CC Provider</th>\n",
              "      <th>Email</th>\n",
              "      <th>Job</th>\n",
              "      <th>IP Address</th>\n",
              "      <th>Language</th>\n",
              "      <th>Purchase Price</th>\n",
              "    </tr>\n",
              "  </thead>\n",
              "  <tbody>\n",
              "    <tr>\n",
              "      <th>0</th>\n",
              "      <td>16629 Pace Camp Apt. 448\\nAlexisborough, NE 77...</td>\n",
              "      <td>46 in</td>\n",
              "      <td>PM</td>\n",
              "      <td>Opera/9.56.(X11; Linux x86_64; sl-SI) Presto/2...</td>\n",
              "      <td>Martinez-Herman</td>\n",
              "      <td>6011929061123406</td>\n",
              "      <td>02/20</td>\n",
              "      <td>900</td>\n",
              "      <td>JCB 16 digit</td>\n",
              "      <td>pdunlap@yahoo.com</td>\n",
              "      <td>Scientist, product/process development</td>\n",
              "      <td>149.146.147.205</td>\n",
              "      <td>el</td>\n",
              "      <td>98.14</td>\n",
              "    </tr>\n",
              "    <tr>\n",
              "      <th>1</th>\n",
              "      <td>9374 Jasmine Spurs Suite 508\\nSouth John, TN 8...</td>\n",
              "      <td>28 rn</td>\n",
              "      <td>PM</td>\n",
              "      <td>Opera/8.93.(Windows 98; Win 9x 4.90; en-US) Pr...</td>\n",
              "      <td>Fletcher, Richards and Whitaker</td>\n",
              "      <td>3337758169645356</td>\n",
              "      <td>11/18</td>\n",
              "      <td>561</td>\n",
              "      <td>Mastercard</td>\n",
              "      <td>anthony41@reed.com</td>\n",
              "      <td>Drilling engineer</td>\n",
              "      <td>15.160.41.51</td>\n",
              "      <td>fr</td>\n",
              "      <td>70.73</td>\n",
              "    </tr>\n",
              "    <tr>\n",
              "      <th>2</th>\n",
              "      <td>Unit 0065 Box 5052\\nDPO AP 27450</td>\n",
              "      <td>94 vE</td>\n",
              "      <td>PM</td>\n",
              "      <td>Mozilla/5.0 (compatible; MSIE 9.0; Windows NT ...</td>\n",
              "      <td>Simpson, Williams and Pham</td>\n",
              "      <td>675957666125</td>\n",
              "      <td>08/19</td>\n",
              "      <td>699</td>\n",
              "      <td>JCB 16 digit</td>\n",
              "      <td>amymiller@morales-harrison.com</td>\n",
              "      <td>Customer service manager</td>\n",
              "      <td>132.207.160.22</td>\n",
              "      <td>de</td>\n",
              "      <td>0.95</td>\n",
              "    </tr>\n",
              "    <tr>\n",
              "      <th>3</th>\n",
              "      <td>7780 Julia Fords\\nNew Stacy, WA 45798</td>\n",
              "      <td>36 vm</td>\n",
              "      <td>PM</td>\n",
              "      <td>Mozilla/5.0 (Macintosh; Intel Mac OS X 10_8_0 ...</td>\n",
              "      <td>Williams, Marshall and Buchanan</td>\n",
              "      <td>6011578504430710</td>\n",
              "      <td>02/24</td>\n",
              "      <td>384</td>\n",
              "      <td>Discover</td>\n",
              "      <td>brent16@olson-robinson.info</td>\n",
              "      <td>Drilling engineer</td>\n",
              "      <td>30.250.74.19</td>\n",
              "      <td>es</td>\n",
              "      <td>78.04</td>\n",
              "    </tr>\n",
              "    <tr>\n",
              "      <th>4</th>\n",
              "      <td>23012 Munoz Drive Suite 337\\nNew Cynthia, TX 5...</td>\n",
              "      <td>20 IE</td>\n",
              "      <td>AM</td>\n",
              "      <td>Opera/9.58.(X11; Linux x86_64; it-IT) Presto/2...</td>\n",
              "      <td>Brown, Watson and Andrews</td>\n",
              "      <td>6011456623207998</td>\n",
              "      <td>10/25</td>\n",
              "      <td>678</td>\n",
              "      <td>Diners Club / Carte Blanche</td>\n",
              "      <td>christopherwright@gmail.com</td>\n",
              "      <td>Fine artist</td>\n",
              "      <td>24.140.33.94</td>\n",
              "      <td>es</td>\n",
              "      <td>77.82</td>\n",
              "    </tr>\n",
              "    <tr>\n",
              "      <th>5</th>\n",
              "      <td>7502 Powell Mission Apt. 768\\nTravisland, VA 3...</td>\n",
              "      <td>21 XT</td>\n",
              "      <td>PM</td>\n",
              "      <td>Mozilla/5.0 (Macintosh; U; PPC Mac OS X 10_8_5...</td>\n",
              "      <td>Silva-Anderson</td>\n",
              "      <td>30246185196287</td>\n",
              "      <td>07/25</td>\n",
              "      <td>7169</td>\n",
              "      <td>Discover</td>\n",
              "      <td>ynguyen@gmail.com</td>\n",
              "      <td>Fish farm manager</td>\n",
              "      <td>55.96.152.147</td>\n",
              "      <td>ru</td>\n",
              "      <td>25.15</td>\n",
              "    </tr>\n",
              "    <tr>\n",
              "      <th>6</th>\n",
              "      <td>93971 Conway Causeway\\nAndersonburgh, AZ 75107</td>\n",
              "      <td>96 Xt</td>\n",
              "      <td>AM</td>\n",
              "      <td>Mozilla/5.0 (compatible; MSIE 7.0; Windows NT ...</td>\n",
              "      <td>Gibson and Sons</td>\n",
              "      <td>6011398782655569</td>\n",
              "      <td>07/24</td>\n",
              "      <td>714</td>\n",
              "      <td>VISA 16 digit</td>\n",
              "      <td>olivia04@yahoo.com</td>\n",
              "      <td>Dancer</td>\n",
              "      <td>127.252.144.18</td>\n",
              "      <td>de</td>\n",
              "      <td>88.56</td>\n",
              "    </tr>\n",
              "    <tr>\n",
              "      <th>7</th>\n",
              "      <td>260 Rachel Plains Suite 366\\nCastroberg, WV 24...</td>\n",
              "      <td>96 pG</td>\n",
              "      <td>PM</td>\n",
              "      <td>Mozilla/5.0 (X11; Linux i686) AppleWebKit/5350...</td>\n",
              "      <td>Marshall-Collins</td>\n",
              "      <td>561252141909</td>\n",
              "      <td>06/25</td>\n",
              "      <td>256</td>\n",
              "      <td>VISA 13 digit</td>\n",
              "      <td>phillip48@parks.info</td>\n",
              "      <td>Event organiser</td>\n",
              "      <td>224.247.97.150</td>\n",
              "      <td>pt</td>\n",
              "      <td>44.25</td>\n",
              "    </tr>\n",
              "    <tr>\n",
              "      <th>8</th>\n",
              "      <td>2129 Dylan Burg\\nNew Michelle, ME 28650</td>\n",
              "      <td>45 JN</td>\n",
              "      <td>PM</td>\n",
              "      <td>Mozilla/5.0 (Macintosh; U; Intel Mac OS X 10_7...</td>\n",
              "      <td>Galloway and Sons</td>\n",
              "      <td>180041795790001</td>\n",
              "      <td>04/24</td>\n",
              "      <td>899</td>\n",
              "      <td>JCB 16 digit</td>\n",
              "      <td>kdavis@rasmussen.com</td>\n",
              "      <td>Financial manager</td>\n",
              "      <td>146.234.201.229</td>\n",
              "      <td>ru</td>\n",
              "      <td>59.54</td>\n",
              "    </tr>\n",
              "    <tr>\n",
              "      <th>9</th>\n",
              "      <td>3795 Dawson Extensions\\nLake Tinafort, ID 88739</td>\n",
              "      <td>15 Ug</td>\n",
              "      <td>AM</td>\n",
              "      <td>Mozilla/5.0 (X11; Linux i686; rv:1.9.7.20) Gec...</td>\n",
              "      <td>Rivera, Buchanan and Ramirez</td>\n",
              "      <td>4396283918371</td>\n",
              "      <td>01/17</td>\n",
              "      <td>931</td>\n",
              "      <td>American Express</td>\n",
              "      <td>qcoleman@hunt-huerta.com</td>\n",
              "      <td>Forensic scientist</td>\n",
              "      <td>236.198.199.8</td>\n",
              "      <td>zh</td>\n",
              "      <td>95.63</td>\n",
              "    </tr>\n",
              "  </tbody>\n",
              "</table>\n",
              "</div>\n",
              "      <button class=\"colab-df-convert\" onclick=\"convertToInteractive('df-6620c7e2-39bc-4eac-a0b2-c733a8829b70')\"\n",
              "              title=\"Convert this dataframe to an interactive table.\"\n",
              "              style=\"display:none;\">\n",
              "        \n",
              "  <svg xmlns=\"http://www.w3.org/2000/svg\" height=\"24px\"viewBox=\"0 0 24 24\"\n",
              "       width=\"24px\">\n",
              "    <path d=\"M0 0h24v24H0V0z\" fill=\"none\"/>\n",
              "    <path d=\"M18.56 5.44l.94 2.06.94-2.06 2.06-.94-2.06-.94-.94-2.06-.94 2.06-2.06.94zm-11 1L8.5 8.5l.94-2.06 2.06-.94-2.06-.94L8.5 2.5l-.94 2.06-2.06.94zm10 10l.94 2.06.94-2.06 2.06-.94-2.06-.94-.94-2.06-.94 2.06-2.06.94z\"/><path d=\"M17.41 7.96l-1.37-1.37c-.4-.4-.92-.59-1.43-.59-.52 0-1.04.2-1.43.59L10.3 9.45l-7.72 7.72c-.78.78-.78 2.05 0 2.83L4 21.41c.39.39.9.59 1.41.59.51 0 1.02-.2 1.41-.59l7.78-7.78 2.81-2.81c.8-.78.8-2.07 0-2.86zM5.41 20L4 18.59l7.72-7.72 1.47 1.35L5.41 20z\"/>\n",
              "  </svg>\n",
              "      </button>\n",
              "      \n",
              "  <style>\n",
              "    .colab-df-container {\n",
              "      display:flex;\n",
              "      flex-wrap:wrap;\n",
              "      gap: 12px;\n",
              "    }\n",
              "\n",
              "    .colab-df-convert {\n",
              "      background-color: #E8F0FE;\n",
              "      border: none;\n",
              "      border-radius: 50%;\n",
              "      cursor: pointer;\n",
              "      display: none;\n",
              "      fill: #1967D2;\n",
              "      height: 32px;\n",
              "      padding: 0 0 0 0;\n",
              "      width: 32px;\n",
              "    }\n",
              "\n",
              "    .colab-df-convert:hover {\n",
              "      background-color: #E2EBFA;\n",
              "      box-shadow: 0px 1px 2px rgba(60, 64, 67, 0.3), 0px 1px 3px 1px rgba(60, 64, 67, 0.15);\n",
              "      fill: #174EA6;\n",
              "    }\n",
              "\n",
              "    [theme=dark] .colab-df-convert {\n",
              "      background-color: #3B4455;\n",
              "      fill: #D2E3FC;\n",
              "    }\n",
              "\n",
              "    [theme=dark] .colab-df-convert:hover {\n",
              "      background-color: #434B5C;\n",
              "      box-shadow: 0px 1px 3px 1px rgba(0, 0, 0, 0.15);\n",
              "      filter: drop-shadow(0px 1px 2px rgba(0, 0, 0, 0.3));\n",
              "      fill: #FFFFFF;\n",
              "    }\n",
              "  </style>\n",
              "\n",
              "      <script>\n",
              "        const buttonEl =\n",
              "          document.querySelector('#df-6620c7e2-39bc-4eac-a0b2-c733a8829b70 button.colab-df-convert');\n",
              "        buttonEl.style.display =\n",
              "          google.colab.kernel.accessAllowed ? 'block' : 'none';\n",
              "\n",
              "        async function convertToInteractive(key) {\n",
              "          const element = document.querySelector('#df-6620c7e2-39bc-4eac-a0b2-c733a8829b70');\n",
              "          const dataTable =\n",
              "            await google.colab.kernel.invokeFunction('convertToInteractive',\n",
              "                                                     [key], {});\n",
              "          if (!dataTable) return;\n",
              "\n",
              "          const docLinkHtml = 'Like what you see? Visit the ' +\n",
              "            '<a target=\"_blank\" href=https://colab.research.google.com/notebooks/data_table.ipynb>data table notebook</a>'\n",
              "            + ' to learn more about interactive tables.';\n",
              "          element.innerHTML = '';\n",
              "          dataTable['output_type'] = 'display_data';\n",
              "          await google.colab.output.renderOutput(dataTable, element);\n",
              "          const docLink = document.createElement('div');\n",
              "          docLink.innerHTML = docLinkHtml;\n",
              "          element.appendChild(docLink);\n",
              "        }\n",
              "      </script>\n",
              "    </div>\n",
              "  </div>\n",
              "  "
            ],
            "text/plain": [
              "                                             Address    Lot AM or PM  \\\n",
              "0  16629 Pace Camp Apt. 448\\nAlexisborough, NE 77...  46 in       PM   \n",
              "1  9374 Jasmine Spurs Suite 508\\nSouth John, TN 8...  28 rn       PM   \n",
              "2                   Unit 0065 Box 5052\\nDPO AP 27450  94 vE       PM   \n",
              "3              7780 Julia Fords\\nNew Stacy, WA 45798  36 vm       PM   \n",
              "4  23012 Munoz Drive Suite 337\\nNew Cynthia, TX 5...  20 IE       AM   \n",
              "5  7502 Powell Mission Apt. 768\\nTravisland, VA 3...  21 XT       PM   \n",
              "6     93971 Conway Causeway\\nAndersonburgh, AZ 75107  96 Xt       AM   \n",
              "7  260 Rachel Plains Suite 366\\nCastroberg, WV 24...  96 pG       PM   \n",
              "8            2129 Dylan Burg\\nNew Michelle, ME 28650  45 JN       PM   \n",
              "9    3795 Dawson Extensions\\nLake Tinafort, ID 88739  15 Ug       AM   \n",
              "\n",
              "                                        Browser Info  \\\n",
              "0  Opera/9.56.(X11; Linux x86_64; sl-SI) Presto/2...   \n",
              "1  Opera/8.93.(Windows 98; Win 9x 4.90; en-US) Pr...   \n",
              "2  Mozilla/5.0 (compatible; MSIE 9.0; Windows NT ...   \n",
              "3  Mozilla/5.0 (Macintosh; Intel Mac OS X 10_8_0 ...   \n",
              "4  Opera/9.58.(X11; Linux x86_64; it-IT) Presto/2...   \n",
              "5  Mozilla/5.0 (Macintosh; U; PPC Mac OS X 10_8_5...   \n",
              "6  Mozilla/5.0 (compatible; MSIE 7.0; Windows NT ...   \n",
              "7  Mozilla/5.0 (X11; Linux i686) AppleWebKit/5350...   \n",
              "8  Mozilla/5.0 (Macintosh; U; Intel Mac OS X 10_7...   \n",
              "9  Mozilla/5.0 (X11; Linux i686; rv:1.9.7.20) Gec...   \n",
              "\n",
              "                           Company       Credit Card CC Exp Date  \\\n",
              "0                  Martinez-Herman  6011929061123406       02/20   \n",
              "1  Fletcher, Richards and Whitaker  3337758169645356       11/18   \n",
              "2       Simpson, Williams and Pham      675957666125       08/19   \n",
              "3  Williams, Marshall and Buchanan  6011578504430710       02/24   \n",
              "4        Brown, Watson and Andrews  6011456623207998       10/25   \n",
              "5                   Silva-Anderson    30246185196287       07/25   \n",
              "6                  Gibson and Sons  6011398782655569       07/24   \n",
              "7                 Marshall-Collins      561252141909       06/25   \n",
              "8                Galloway and Sons   180041795790001       04/24   \n",
              "9     Rivera, Buchanan and Ramirez     4396283918371       01/17   \n",
              "\n",
              "   CC Security Code                  CC Provider  \\\n",
              "0               900                 JCB 16 digit   \n",
              "1               561                   Mastercard   \n",
              "2               699                 JCB 16 digit   \n",
              "3               384                     Discover   \n",
              "4               678  Diners Club / Carte Blanche   \n",
              "5              7169                     Discover   \n",
              "6               714                VISA 16 digit   \n",
              "7               256                VISA 13 digit   \n",
              "8               899                 JCB 16 digit   \n",
              "9               931             American Express   \n",
              "\n",
              "                            Email                                     Job  \\\n",
              "0               pdunlap@yahoo.com  Scientist, product/process development   \n",
              "1              anthony41@reed.com                       Drilling engineer   \n",
              "2  amymiller@morales-harrison.com                Customer service manager   \n",
              "3     brent16@olson-robinson.info                       Drilling engineer   \n",
              "4     christopherwright@gmail.com                             Fine artist   \n",
              "5               ynguyen@gmail.com                       Fish farm manager   \n",
              "6              olivia04@yahoo.com                                  Dancer   \n",
              "7            phillip48@parks.info                         Event organiser   \n",
              "8            kdavis@rasmussen.com                       Financial manager   \n",
              "9        qcoleman@hunt-huerta.com                      Forensic scientist   \n",
              "\n",
              "        IP Address Language  Purchase Price  \n",
              "0  149.146.147.205       el           98.14  \n",
              "1     15.160.41.51       fr           70.73  \n",
              "2   132.207.160.22       de            0.95  \n",
              "3     30.250.74.19       es           78.04  \n",
              "4     24.140.33.94       es           77.82  \n",
              "5    55.96.152.147       ru           25.15  \n",
              "6   127.252.144.18       de           88.56  \n",
              "7   224.247.97.150       pt           44.25  \n",
              "8  146.234.201.229       ru           59.54  \n",
              "9    236.198.199.8       zh           95.63  "
            ]
          },
          "execution_count": 5,
          "metadata": {},
          "output_type": "execute_result"
        }
      ],
      "source": [
        "dataset.head(10)"
      ]
    },
    {
      "cell_type": "markdown",
      "metadata": {
        "id": "8fy3PWUBQGVU"
      },
      "source": [
        "    Check Top 10 rows of the data"
      ]
    },
    {
      "cell_type": "code",
      "execution_count": null,
      "metadata": {
        "colab": {
          "base_uri": "https://localhost:8080/",
          "height": 947
        },
        "id": "YbSXLK75QTWy",
        "outputId": "199ca130-0c55-4d25-aa27-127d259636b6"
      },
      "outputs": [
        {
          "data": {
            "text/html": [
              "\n",
              "  <div id=\"df-7fd798c3-3154-4ca0-ae4d-1bdca47d09a0\">\n",
              "    <div class=\"colab-df-container\">\n",
              "      <div>\n",
              "<style scoped>\n",
              "    .dataframe tbody tr th:only-of-type {\n",
              "        vertical-align: middle;\n",
              "    }\n",
              "\n",
              "    .dataframe tbody tr th {\n",
              "        vertical-align: top;\n",
              "    }\n",
              "\n",
              "    .dataframe thead th {\n",
              "        text-align: right;\n",
              "    }\n",
              "</style>\n",
              "<table border=\"1\" class=\"dataframe\">\n",
              "  <thead>\n",
              "    <tr style=\"text-align: right;\">\n",
              "      <th></th>\n",
              "      <th>Address</th>\n",
              "      <th>Lot</th>\n",
              "      <th>AM or PM</th>\n",
              "      <th>Browser Info</th>\n",
              "      <th>Company</th>\n",
              "      <th>Credit Card</th>\n",
              "      <th>CC Exp Date</th>\n",
              "      <th>CC Security Code</th>\n",
              "      <th>CC Provider</th>\n",
              "      <th>Email</th>\n",
              "      <th>Job</th>\n",
              "      <th>IP Address</th>\n",
              "      <th>Language</th>\n",
              "      <th>Purchase Price</th>\n",
              "    </tr>\n",
              "  </thead>\n",
              "  <tbody>\n",
              "    <tr>\n",
              "      <th>9990</th>\n",
              "      <td>75731 Molly Springs\\nWest Danielle, VT 96934-5102</td>\n",
              "      <td>93 ty</td>\n",
              "      <td>PM</td>\n",
              "      <td>Mozilla/5.0 (Macintosh; Intel Mac OS X 10_7_4;...</td>\n",
              "      <td>Pace, Vazquez and Richards</td>\n",
              "      <td>869968197049750</td>\n",
              "      <td>04/24</td>\n",
              "      <td>877</td>\n",
              "      <td>JCB 15 digit</td>\n",
              "      <td>andersonmichael@sherman.biz</td>\n",
              "      <td>Early years teacher</td>\n",
              "      <td>54.170.3.185</td>\n",
              "      <td>ru</td>\n",
              "      <td>18.35</td>\n",
              "    </tr>\n",
              "    <tr>\n",
              "      <th>9991</th>\n",
              "      <td>PSC 8165, Box 8498\\nAPO AP 60327-0346</td>\n",
              "      <td>50 dA</td>\n",
              "      <td>AM</td>\n",
              "      <td>Mozilla/5.0 (compatible; MSIE 8.0; Windows NT ...</td>\n",
              "      <td>Snyder Inc</td>\n",
              "      <td>4221582137197481</td>\n",
              "      <td>02/24</td>\n",
              "      <td>969</td>\n",
              "      <td>Voyager</td>\n",
              "      <td>kking@wise-liu.com</td>\n",
              "      <td>IT sales professional</td>\n",
              "      <td>254.25.31.156</td>\n",
              "      <td>el</td>\n",
              "      <td>25.93</td>\n",
              "    </tr>\n",
              "    <tr>\n",
              "      <th>9992</th>\n",
              "      <td>885 Allen Mountains Apt. 230\\nWallhaven, LA 16995</td>\n",
              "      <td>40 vH</td>\n",
              "      <td>PM</td>\n",
              "      <td>Mozilla/5.0 (Macintosh; PPC Mac OS X 10_6_5) A...</td>\n",
              "      <td>Wells Ltd</td>\n",
              "      <td>4664825258997302</td>\n",
              "      <td>10/20</td>\n",
              "      <td>431</td>\n",
              "      <td>Discover</td>\n",
              "      <td>bberry@wright.net</td>\n",
              "      <td>Set designer</td>\n",
              "      <td>174.173.51.32</td>\n",
              "      <td>de</td>\n",
              "      <td>67.96</td>\n",
              "    </tr>\n",
              "    <tr>\n",
              "      <th>9993</th>\n",
              "      <td>7555 Larson Locks Suite 229\\nEllisburgh, MA 34...</td>\n",
              "      <td>72 jg</td>\n",
              "      <td>PM</td>\n",
              "      <td>Mozilla/5.0 (Macintosh; U; Intel Mac OS X 10_8...</td>\n",
              "      <td>Colon and Sons</td>\n",
              "      <td>30025560104631</td>\n",
              "      <td>10/25</td>\n",
              "      <td>629</td>\n",
              "      <td>Maestro</td>\n",
              "      <td>chelseawilliams@lopez.biz</td>\n",
              "      <td>Designer, exhibition/display</td>\n",
              "      <td>177.46.82.128</td>\n",
              "      <td>el</td>\n",
              "      <td>65.61</td>\n",
              "    </tr>\n",
              "    <tr>\n",
              "      <th>9994</th>\n",
              "      <td>6276 Rojas Hollow\\nLake Louis, WY 56410-7837</td>\n",
              "      <td>93 Ex</td>\n",
              "      <td>PM</td>\n",
              "      <td>Opera/9.68.(X11; Linux x86_64; sl-SI) Presto/2...</td>\n",
              "      <td>Ritter-Smith</td>\n",
              "      <td>3112186784121077</td>\n",
              "      <td>01/25</td>\n",
              "      <td>1823</td>\n",
              "      <td>Maestro</td>\n",
              "      <td>iroberts@gmail.com</td>\n",
              "      <td>Education officer, museum</td>\n",
              "      <td>242.44.112.18</td>\n",
              "      <td>zh</td>\n",
              "      <td>31.85</td>\n",
              "    </tr>\n",
              "    <tr>\n",
              "      <th>9995</th>\n",
              "      <td>966 Castaneda Locks\\nWest Juliafurt, CO 96415</td>\n",
              "      <td>92 XI</td>\n",
              "      <td>PM</td>\n",
              "      <td>Mozilla/5.0 (Windows NT 5.1) AppleWebKit/5352 ...</td>\n",
              "      <td>Randall-Sloan</td>\n",
              "      <td>342945015358701</td>\n",
              "      <td>03/22</td>\n",
              "      <td>838</td>\n",
              "      <td>JCB 15 digit</td>\n",
              "      <td>iscott@wade-garner.com</td>\n",
              "      <td>Printmaker</td>\n",
              "      <td>29.73.197.114</td>\n",
              "      <td>it</td>\n",
              "      <td>82.21</td>\n",
              "    </tr>\n",
              "    <tr>\n",
              "      <th>9996</th>\n",
              "      <td>832 Curtis Dam Suite 785\\nNorth Edwardburgh, T...</td>\n",
              "      <td>41 JY</td>\n",
              "      <td>AM</td>\n",
              "      <td>Mozilla/5.0 (compatible; MSIE 9.0; Windows NT ...</td>\n",
              "      <td>Hale, Collins and Wilson</td>\n",
              "      <td>210033169205009</td>\n",
              "      <td>07/25</td>\n",
              "      <td>207</td>\n",
              "      <td>JCB 16 digit</td>\n",
              "      <td>mary85@hotmail.com</td>\n",
              "      <td>Energy engineer</td>\n",
              "      <td>121.133.168.51</td>\n",
              "      <td>pt</td>\n",
              "      <td>25.63</td>\n",
              "    </tr>\n",
              "    <tr>\n",
              "      <th>9997</th>\n",
              "      <td>Unit 4434 Box 6343\\nDPO AE 28026-0283</td>\n",
              "      <td>74 Zh</td>\n",
              "      <td>AM</td>\n",
              "      <td>Mozilla/5.0 (Macintosh; U; Intel Mac OS X 10_7...</td>\n",
              "      <td>Anderson Ltd</td>\n",
              "      <td>6011539787356311</td>\n",
              "      <td>05/21</td>\n",
              "      <td>1</td>\n",
              "      <td>VISA 16 digit</td>\n",
              "      <td>tyler16@gmail.com</td>\n",
              "      <td>Veterinary surgeon</td>\n",
              "      <td>156.210.0.254</td>\n",
              "      <td>el</td>\n",
              "      <td>83.98</td>\n",
              "    </tr>\n",
              "    <tr>\n",
              "      <th>9998</th>\n",
              "      <td>0096 English Rest\\nRoystad, IA 12457</td>\n",
              "      <td>74 cL</td>\n",
              "      <td>PM</td>\n",
              "      <td>Mozilla/5.0 (Macintosh; Intel Mac OS X 10_8_8;...</td>\n",
              "      <td>Cook Inc</td>\n",
              "      <td>180003348082930</td>\n",
              "      <td>11/17</td>\n",
              "      <td>987</td>\n",
              "      <td>American Express</td>\n",
              "      <td>elizabethmoore@reid.net</td>\n",
              "      <td>Local government officer</td>\n",
              "      <td>55.78.26.143</td>\n",
              "      <td>es</td>\n",
              "      <td>38.84</td>\n",
              "    </tr>\n",
              "    <tr>\n",
              "      <th>9999</th>\n",
              "      <td>40674 Barrett Stravenue\\nGrimesville, WI 79682</td>\n",
              "      <td>64 Hr</td>\n",
              "      <td>AM</td>\n",
              "      <td>Mozilla/5.0 (X11; Linux i686; rv:1.9.5.20) Gec...</td>\n",
              "      <td>Greene Inc</td>\n",
              "      <td>4139972901927273</td>\n",
              "      <td>02/19</td>\n",
              "      <td>302</td>\n",
              "      <td>JCB 15 digit</td>\n",
              "      <td>rachelford@vaughn.com</td>\n",
              "      <td>Embryologist, clinical</td>\n",
              "      <td>176.119.198.199</td>\n",
              "      <td>el</td>\n",
              "      <td>67.59</td>\n",
              "    </tr>\n",
              "  </tbody>\n",
              "</table>\n",
              "</div>\n",
              "      <button class=\"colab-df-convert\" onclick=\"convertToInteractive('df-7fd798c3-3154-4ca0-ae4d-1bdca47d09a0')\"\n",
              "              title=\"Convert this dataframe to an interactive table.\"\n",
              "              style=\"display:none;\">\n",
              "        \n",
              "  <svg xmlns=\"http://www.w3.org/2000/svg\" height=\"24px\"viewBox=\"0 0 24 24\"\n",
              "       width=\"24px\">\n",
              "    <path d=\"M0 0h24v24H0V0z\" fill=\"none\"/>\n",
              "    <path d=\"M18.56 5.44l.94 2.06.94-2.06 2.06-.94-2.06-.94-.94-2.06-.94 2.06-2.06.94zm-11 1L8.5 8.5l.94-2.06 2.06-.94-2.06-.94L8.5 2.5l-.94 2.06-2.06.94zm10 10l.94 2.06.94-2.06 2.06-.94-2.06-.94-.94-2.06-.94 2.06-2.06.94z\"/><path d=\"M17.41 7.96l-1.37-1.37c-.4-.4-.92-.59-1.43-.59-.52 0-1.04.2-1.43.59L10.3 9.45l-7.72 7.72c-.78.78-.78 2.05 0 2.83L4 21.41c.39.39.9.59 1.41.59.51 0 1.02-.2 1.41-.59l7.78-7.78 2.81-2.81c.8-.78.8-2.07 0-2.86zM5.41 20L4 18.59l7.72-7.72 1.47 1.35L5.41 20z\"/>\n",
              "  </svg>\n",
              "      </button>\n",
              "      \n",
              "  <style>\n",
              "    .colab-df-container {\n",
              "      display:flex;\n",
              "      flex-wrap:wrap;\n",
              "      gap: 12px;\n",
              "    }\n",
              "\n",
              "    .colab-df-convert {\n",
              "      background-color: #E8F0FE;\n",
              "      border: none;\n",
              "      border-radius: 50%;\n",
              "      cursor: pointer;\n",
              "      display: none;\n",
              "      fill: #1967D2;\n",
              "      height: 32px;\n",
              "      padding: 0 0 0 0;\n",
              "      width: 32px;\n",
              "    }\n",
              "\n",
              "    .colab-df-convert:hover {\n",
              "      background-color: #E2EBFA;\n",
              "      box-shadow: 0px 1px 2px rgba(60, 64, 67, 0.3), 0px 1px 3px 1px rgba(60, 64, 67, 0.15);\n",
              "      fill: #174EA6;\n",
              "    }\n",
              "\n",
              "    [theme=dark] .colab-df-convert {\n",
              "      background-color: #3B4455;\n",
              "      fill: #D2E3FC;\n",
              "    }\n",
              "\n",
              "    [theme=dark] .colab-df-convert:hover {\n",
              "      background-color: #434B5C;\n",
              "      box-shadow: 0px 1px 3px 1px rgba(0, 0, 0, 0.15);\n",
              "      filter: drop-shadow(0px 1px 2px rgba(0, 0, 0, 0.3));\n",
              "      fill: #FFFFFF;\n",
              "    }\n",
              "  </style>\n",
              "\n",
              "      <script>\n",
              "        const buttonEl =\n",
              "          document.querySelector('#df-7fd798c3-3154-4ca0-ae4d-1bdca47d09a0 button.colab-df-convert');\n",
              "        buttonEl.style.display =\n",
              "          google.colab.kernel.accessAllowed ? 'block' : 'none';\n",
              "\n",
              "        async function convertToInteractive(key) {\n",
              "          const element = document.querySelector('#df-7fd798c3-3154-4ca0-ae4d-1bdca47d09a0');\n",
              "          const dataTable =\n",
              "            await google.colab.kernel.invokeFunction('convertToInteractive',\n",
              "                                                     [key], {});\n",
              "          if (!dataTable) return;\n",
              "\n",
              "          const docLinkHtml = 'Like what you see? Visit the ' +\n",
              "            '<a target=\"_blank\" href=https://colab.research.google.com/notebooks/data_table.ipynb>data table notebook</a>'\n",
              "            + ' to learn more about interactive tables.';\n",
              "          element.innerHTML = '';\n",
              "          dataTable['output_type'] = 'display_data';\n",
              "          await google.colab.output.renderOutput(dataTable, element);\n",
              "          const docLink = document.createElement('div');\n",
              "          docLink.innerHTML = docLinkHtml;\n",
              "          element.appendChild(docLink);\n",
              "        }\n",
              "      </script>\n",
              "    </div>\n",
              "  </div>\n",
              "  "
            ],
            "text/plain": [
              "                                                Address    Lot AM or PM  \\\n",
              "9990  75731 Molly Springs\\nWest Danielle, VT 96934-5102  93 ty       PM   \n",
              "9991              PSC 8165, Box 8498\\nAPO AP 60327-0346  50 dA       AM   \n",
              "9992  885 Allen Mountains Apt. 230\\nWallhaven, LA 16995  40 vH       PM   \n",
              "9993  7555 Larson Locks Suite 229\\nEllisburgh, MA 34...  72 jg       PM   \n",
              "9994       6276 Rojas Hollow\\nLake Louis, WY 56410-7837  93 Ex       PM   \n",
              "9995      966 Castaneda Locks\\nWest Juliafurt, CO 96415  92 XI       PM   \n",
              "9996  832 Curtis Dam Suite 785\\nNorth Edwardburgh, T...  41 JY       AM   \n",
              "9997              Unit 4434 Box 6343\\nDPO AE 28026-0283  74 Zh       AM   \n",
              "9998               0096 English Rest\\nRoystad, IA 12457  74 cL       PM   \n",
              "9999     40674 Barrett Stravenue\\nGrimesville, WI 79682  64 Hr       AM   \n",
              "\n",
              "                                           Browser Info  \\\n",
              "9990  Mozilla/5.0 (Macintosh; Intel Mac OS X 10_7_4;...   \n",
              "9991  Mozilla/5.0 (compatible; MSIE 8.0; Windows NT ...   \n",
              "9992  Mozilla/5.0 (Macintosh; PPC Mac OS X 10_6_5) A...   \n",
              "9993  Mozilla/5.0 (Macintosh; U; Intel Mac OS X 10_8...   \n",
              "9994  Opera/9.68.(X11; Linux x86_64; sl-SI) Presto/2...   \n",
              "9995  Mozilla/5.0 (Windows NT 5.1) AppleWebKit/5352 ...   \n",
              "9996  Mozilla/5.0 (compatible; MSIE 9.0; Windows NT ...   \n",
              "9997  Mozilla/5.0 (Macintosh; U; Intel Mac OS X 10_7...   \n",
              "9998  Mozilla/5.0 (Macintosh; Intel Mac OS X 10_8_8;...   \n",
              "9999  Mozilla/5.0 (X11; Linux i686; rv:1.9.5.20) Gec...   \n",
              "\n",
              "                         Company       Credit Card CC Exp Date  \\\n",
              "9990  Pace, Vazquez and Richards   869968197049750       04/24   \n",
              "9991                  Snyder Inc  4221582137197481       02/24   \n",
              "9992                   Wells Ltd  4664825258997302       10/20   \n",
              "9993              Colon and Sons    30025560104631       10/25   \n",
              "9994                Ritter-Smith  3112186784121077       01/25   \n",
              "9995               Randall-Sloan   342945015358701       03/22   \n",
              "9996    Hale, Collins and Wilson   210033169205009       07/25   \n",
              "9997                Anderson Ltd  6011539787356311       05/21   \n",
              "9998                    Cook Inc   180003348082930       11/17   \n",
              "9999                  Greene Inc  4139972901927273       02/19   \n",
              "\n",
              "      CC Security Code       CC Provider                        Email  \\\n",
              "9990               877      JCB 15 digit  andersonmichael@sherman.biz   \n",
              "9991               969           Voyager           kking@wise-liu.com   \n",
              "9992               431          Discover            bberry@wright.net   \n",
              "9993               629           Maestro    chelseawilliams@lopez.biz   \n",
              "9994              1823           Maestro           iroberts@gmail.com   \n",
              "9995               838      JCB 15 digit       iscott@wade-garner.com   \n",
              "9996               207      JCB 16 digit           mary85@hotmail.com   \n",
              "9997                 1     VISA 16 digit            tyler16@gmail.com   \n",
              "9998               987  American Express      elizabethmoore@reid.net   \n",
              "9999               302      JCB 15 digit        rachelford@vaughn.com   \n",
              "\n",
              "                               Job       IP Address Language  Purchase Price  \n",
              "9990           Early years teacher     54.170.3.185       ru           18.35  \n",
              "9991         IT sales professional    254.25.31.156       el           25.93  \n",
              "9992                  Set designer    174.173.51.32       de           67.96  \n",
              "9993  Designer, exhibition/display    177.46.82.128       el           65.61  \n",
              "9994     Education officer, museum    242.44.112.18       zh           31.85  \n",
              "9995                    Printmaker    29.73.197.114       it           82.21  \n",
              "9996               Energy engineer   121.133.168.51       pt           25.63  \n",
              "9997            Veterinary surgeon    156.210.0.254       el           83.98  \n",
              "9998      Local government officer     55.78.26.143       es           38.84  \n",
              "9999        Embryologist, clinical  176.119.198.199       el           67.59  "
            ]
          },
          "execution_count": 6,
          "metadata": {},
          "output_type": "execute_result"
        }
      ],
      "source": [
        "dataset.tail(10)"
      ]
    },
    {
      "cell_type": "markdown",
      "metadata": {
        "id": "bPwqarlTQY0a"
      },
      "source": [
        "    Check the datatype of the column named 'CC Provider'"
      ]
    },
    {
      "cell_type": "code",
      "execution_count": null,
      "metadata": {
        "colab": {
          "base_uri": "https://localhost:8080/"
        },
        "id": "1SbttHGtQqOm",
        "outputId": "b97d1325-d8f7-435b-aa8a-584a20841d60"
      },
      "outputs": [
        {
          "data": {
            "text/plain": [
              "dtype('O')"
            ]
          },
          "execution_count": 11,
          "metadata": {},
          "output_type": "execute_result"
        }
      ],
      "source": [
        "dataset[\"CC Provider\"].dtype"
      ]
    },
    {
      "cell_type": "markdown",
      "metadata": {
        "id": "iWzxnIe2ReEA"
      },
      "source": [
        "    Provide columns with number of null values"
      ]
    },
    {
      "cell_type": "code",
      "execution_count": null,
      "metadata": {
        "colab": {
          "base_uri": "https://localhost:8080/"
        },
        "id": "m3PVTVY4RmTi",
        "outputId": "fc72253b-5623-4bee-e3e0-60b011eeba62"
      },
      "outputs": [
        {
          "data": {
            "text/plain": [
              "Address             0\n",
              "Lot                 0\n",
              "AM or PM            0\n",
              "Browser Info        0\n",
              "Company             0\n",
              "Credit Card         0\n",
              "CC Exp Date         0\n",
              "CC Security Code    0\n",
              "CC Provider         0\n",
              "Email               0\n",
              "Job                 0\n",
              "IP Address          0\n",
              "Language            0\n",
              "Purchase Price      0\n",
              "dtype: int64"
            ]
          },
          "execution_count": 12,
          "metadata": {},
          "output_type": "execute_result"
        }
      ],
      "source": [
        "dataset.isnull().sum()"
      ]
    },
    {
      "cell_type": "markdown",
      "metadata": {
        "id": "HwPUAC1CR7bB"
      },
      "source": [
        "    Number of rows and columns in the dataset"
      ]
    },
    {
      "cell_type": "code",
      "execution_count": null,
      "metadata": {
        "colab": {
          "base_uri": "https://localhost:8080/"
        },
        "id": "kC4WuSKTSDN_",
        "outputId": "7be060af-d634-40d9-bcb3-7968e85d9933"
      },
      "outputs": [
        {
          "data": {
            "text/plain": [
              "(10000, 14)"
            ]
          },
          "execution_count": 13,
          "metadata": {},
          "output_type": "execute_result"
        }
      ],
      "source": [
        "dataset.shape"
      ]
    },
    {
      "cell_type": "markdown",
      "metadata": {
        "id": "N9bMP6cWSIAS"
      },
      "source": [
        "    Information about the dataset"
      ]
    },
    {
      "cell_type": "code",
      "execution_count": null,
      "metadata": {
        "colab": {
          "base_uri": "https://localhost:8080/"
        },
        "id": "W6AIJMdGSNhv",
        "outputId": "32144a7c-a503-40e3-aea8-0d220a016a75"
      },
      "outputs": [
        {
          "name": "stdout",
          "output_type": "stream",
          "text": [
            "<class 'pandas.core.frame.DataFrame'>\n",
            "RangeIndex: 10000 entries, 0 to 9999\n",
            "Data columns (total 14 columns):\n",
            " #   Column            Non-Null Count  Dtype  \n",
            "---  ------            --------------  -----  \n",
            " 0   Address           10000 non-null  object \n",
            " 1   Lot               10000 non-null  object \n",
            " 2   AM or PM          10000 non-null  object \n",
            " 3   Browser Info      10000 non-null  object \n",
            " 4   Company           10000 non-null  object \n",
            " 5   Credit Card       10000 non-null  int64  \n",
            " 6   CC Exp Date       10000 non-null  object \n",
            " 7   CC Security Code  10000 non-null  int64  \n",
            " 8   CC Provider       10000 non-null  object \n",
            " 9   Email             10000 non-null  object \n",
            " 10  Job               10000 non-null  object \n",
            " 11  IP Address        10000 non-null  object \n",
            " 12  Language          10000 non-null  object \n",
            " 13  Purchase Price    10000 non-null  float64\n",
            "dtypes: float64(1), int64(2), object(11)\n",
            "memory usage: 1.1+ MB\n"
          ]
        }
      ],
      "source": [
        "dataset.info()"
      ]
    },
    {
      "cell_type": "markdown",
      "metadata": {
        "id": "-lY6u22sSSzZ"
      },
      "source": [
        "    Check the highest purchase price in the dataset"
      ]
    },
    {
      "cell_type": "code",
      "execution_count": null,
      "metadata": {
        "colab": {
          "base_uri": "https://localhost:8080/"
        },
        "id": "mMW88WzMSgXv",
        "outputId": "107d9d18-7d14-44da-9e5d-0a1be20bee0b"
      },
      "outputs": [
        {
          "data": {
            "text/plain": [
              "99.99"
            ]
          },
          "execution_count": 16,
          "metadata": {},
          "output_type": "execute_result"
        }
      ],
      "source": [
        "dataset[\"Purchase Price\"].max()"
      ]
    },
    {
      "cell_type": "markdown",
      "metadata": {
        "id": "TIekaFkmS4QA"
      },
      "source": [
        "    Check the lowest purchase price in the dataset"
      ]
    },
    {
      "cell_type": "code",
      "execution_count": null,
      "metadata": {
        "colab": {
          "base_uri": "https://localhost:8080/"
        },
        "id": "YlJLSckLS-f5",
        "outputId": "575bfdf0-bbed-47c0-bda9-0d468cb3b445"
      },
      "outputs": [
        {
          "data": {
            "text/plain": [
              "0.0"
            ]
          },
          "execution_count": 17,
          "metadata": {},
          "output_type": "execute_result"
        }
      ],
      "source": [
        "dataset[\"Purchase Price\"].min()"
      ]
    },
    {
      "cell_type": "markdown",
      "metadata": {
        "id": "4Du5mkOKTEQD"
      },
      "source": [
        "    Check the Average Purchase Price in the dataset"
      ]
    },
    {
      "cell_type": "code",
      "execution_count": null,
      "metadata": {
        "colab": {
          "base_uri": "https://localhost:8080/"
        },
        "id": "gjUwrIzWTJx6",
        "outputId": "dff531e2-1b78-4ab2-e1eb-69afcf71f2ee"
      },
      "outputs": [
        {
          "data": {
            "text/plain": [
              "50.34730200000025"
            ]
          },
          "execution_count": 18,
          "metadata": {},
          "output_type": "execute_result"
        }
      ],
      "source": [
        "dataset[\"Purchase Price\"].mean()"
      ]
    },
    {
      "cell_type": "markdown",
      "metadata": {
        "id": "HRFAQ81bTPPB"
      },
      "source": [
        "    Number of customers with french (fr) as their primary language"
      ]
    },
    {
      "cell_type": "code",
      "execution_count": null,
      "metadata": {
        "colab": {
          "base_uri": "https://localhost:8080/"
        },
        "id": "02BRXr8UTg5j",
        "outputId": "6fc80ac1-3477-4219-e3b9-a9e08dd45494"
      },
      "outputs": [
        {
          "data": {
            "text/plain": [
              "1097"
            ]
          },
          "execution_count": 23,
          "metadata": {},
          "output_type": "execute_result"
        }
      ],
      "source": [
        "len(dataset[dataset[\"Language\"] == \"fr\"])"
      ]
    },
    {
      "cell_type": "markdown",
      "metadata": {
        "id": "vdKnOQ65UKJt"
      },
      "source": [
        "    How many customers are any designer"
      ]
    },
    {
      "cell_type": "code",
      "execution_count": null,
      "metadata": {
        "colab": {
          "base_uri": "https://localhost:8080/"
        },
        "id": "uT-lkHpIUSdR",
        "outputId": "1628be4a-ffd2-4d0f-f427-1e9d2d3ce885"
      },
      "outputs": [
        {
          "data": {
            "text/plain": [
              "475"
            ]
          },
          "execution_count": 25,
          "metadata": {},
          "output_type": "execute_result"
        }
      ],
      "source": [
        "len(dataset[dataset[\"Job\"].str.contains(\"designer\" , case=False)])"
      ]
    },
    {
      "cell_type": "markdown",
      "metadata": {
        "id": "sTlG86A7VBw-"
      },
      "source": [
        "    What is the email id of the person with IP Address:174.173.51.32\t"
      ]
    },
    {
      "cell_type": "code",
      "execution_count": null,
      "metadata": {
        "colab": {
          "base_uri": "https://localhost:8080/"
        },
        "id": "5X5tgPIQVPCQ",
        "outputId": "8ac91e54-4a5f-4985-d352-f6f0b8e68181"
      },
      "outputs": [
        {
          "data": {
            "text/plain": [
              "9992    bberry@wright.net\n",
              "Name: Email, dtype: object"
            ]
          },
          "execution_count": 29,
          "metadata": {},
          "output_type": "execute_result"
        }
      ],
      "source": [
        "dataset[dataset[\"IP Address\"]== \"174.173.51.32\"\t][\"Email\"] "
      ]
    },
    {
      "cell_type": "markdown",
      "metadata": {
        "id": "rawqNCZXWOQ9"
      },
      "source": [
        "    How many people have Mastercard as their Credit card provider and make a purchase above 100?"
      ]
    },
    {
      "cell_type": "code",
      "execution_count": null,
      "metadata": {
        "colab": {
          "background_save": true,
          "base_uri": "https://localhost:8080/",
          "height": 131
        },
        "id": "Y0SLrtk8Wb9Z",
        "outputId": "8a38323b-5c88-49aa-b60b-1911b36bc535"
      },
      "outputs": [
        {
          "data": {
            "text/plain": [
              "0"
            ]
          },
          "execution_count": null,
          "metadata": {},
          "output_type": "execute_result"
        }
      ],
      "source": [
        "len(dataset[(dataset[\"CC Provider\"]==\"Mastercard\") & (dataset[\"Purchase Price\"]>100)])"
      ]
    }
  ],
  "metadata": {
    "colab": {
      "name": "Data_analysis.ipynb",
      "provenance": []
    },
    "kernelspec": {
      "display_name": "Python 3",
      "name": "python3"
    },
    "language_info": {
      "name": "python"
    }
  },
  "nbformat": 4,
  "nbformat_minor": 0
}